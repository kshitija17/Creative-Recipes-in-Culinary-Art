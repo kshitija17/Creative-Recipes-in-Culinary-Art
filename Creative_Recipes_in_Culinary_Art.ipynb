{
  "nbformat": 4,
  "nbformat_minor": 0,
  "metadata": {
    "colab": {
      "provenance": [],
      "collapsed_sections": [],
      "machine_shape": "hm"
    },
    "kernelspec": {
      "name": "python3",
      "display_name": "Python 3"
    },
    "language_info": {
      "name": "python"
    },
    "accelerator": "GPU"
  },
  "cells": [
    {
      "cell_type": "markdown",
      "source": [
        "\n",
        "#**Creative Recipes in Culinary Art**\n",
        "Kshitija Ghate, \\\n",
        "Student ID: 210817540 \\\n",
        "email: k.ghate@se21.qmul.ac.uk"
      ],
      "metadata": {
        "id": "_Elkrabo_c5x"
      }
    },
    {
      "cell_type": "markdown",
      "source": [
        "### **All Imports and Notebook Settings**\n",
        "\n",
        "I am facing issues with downloading my google drive files using **gdown**. \n",
        "I am sharing my trained model folder link.\n",
        "Please copy **creative_recipes_in_culinary_art**.**h5** and **checkpoints** folder in **cc_project_model** folder in your google drive.\n",
        "\n",
        "\n",
        "Google drive folder link \\\n",
        "https://drive.google.com/drive/folders/1-BMUj5fWlFTMCB4Tnxkq1yUwO9b76S-O?usp=sharing\n",
        "\n",
        "\\\n",
        "Dataset link \\\n",
        "https://raw.githubusercontent.com/kshitija17/Creative-Recipes-in-Culinary-Art/main/IndianFoodDatasetCSV.csv"
      ],
      "metadata": {
        "id": "ZL_6MM_-EBaJ"
      }
    },
    {
      "cell_type": "code",
      "execution_count": null,
      "metadata": {
        "id": "IM30zzOa3VcV",
        "colab": {
          "base_uri": "https://localhost:8080/",
          "height": 17
        },
        "outputId": "d40e0c8c-7094-460f-b7fd-270098f2f7b7"
      },
      "outputs": [
        {
          "output_type": "display_data",
          "data": {
            "text/plain": [
              "<IPython.core.display.HTML object>"
            ],
            "text/html": [
              "\n",
              "  <style>\n",
              "    pre {\n",
              "        white-space: pre-wrap;\n",
              "    }\n",
              "  </style>\n",
              "  "
            ]
          },
          "metadata": {}
        }
      ],
      "source": [
        "import pandas as pd\n",
        "\n",
        "import tensorflow as tf\n",
        "# tf.enable_eager_execution()\n",
        "import matplotlib.pyplot as plt\n",
        "import numpy as np\n",
        "import platform\n",
        "import time\n",
        "import pathlib\n",
        "import os"
      ]
    },
    {
      "cell_type": "code",
      "source": [
        "# Install required packages\n",
        "\n",
        "# Install language detect \n",
        "!pip install langdetect\n",
        "\n",
        " # install h5py\n",
        "!pip install pyyaml h5py\n",
        "\n",
        "# mount google drive\n",
        "from google.colab import drive\n",
        "drive.mount('/content/drive')"
      ],
      "metadata": {
        "colab": {
          "base_uri": "https://localhost:8080/",
          "height": 139
        },
        "id": "5g4iPwW5G6kG",
        "outputId": "afff4353-c036-4223-f36a-55dd43c64eaa"
      },
      "execution_count": null,
      "outputs": [
        {
          "output_type": "display_data",
          "data": {
            "text/plain": [
              "<IPython.core.display.HTML object>"
            ],
            "text/html": [
              "\n",
              "  <style>\n",
              "    pre {\n",
              "        white-space: pre-wrap;\n",
              "    }\n",
              "  </style>\n",
              "  "
            ]
          },
          "metadata": {}
        },
        {
          "output_type": "stream",
          "name": "stdout",
          "text": [
            "Requirement already satisfied: langdetect in /usr/local/lib/python3.7/dist-packages (1.0.9)\n",
            "Requirement already satisfied: six in /usr/local/lib/python3.7/dist-packages (from langdetect) (1.15.0)\n",
            "Requirement already satisfied: pyyaml in /usr/local/lib/python3.7/dist-packages (3.13)\n",
            "Requirement already satisfied: h5py in /usr/local/lib/python3.7/dist-packages (3.1.0)\n",
            "Requirement already satisfied: cached-property in /usr/local/lib/python3.7/dist-packages (from h5py) (1.5.2)\n",
            "Requirement already satisfied: numpy>=1.14.5 in /usr/local/lib/python3.7/dist-packages (from h5py) (1.21.6)\n",
            "Drive already mounted at /content/drive; to attempt to forcibly remount, call drive.mount(\"/content/drive\", force_remount=True).\n"
          ]
        }
      ]
    },
    {
      "cell_type": "code",
      "source": [
        "# for output text wrap\n",
        "\n",
        "from IPython.display import HTML, display\n",
        "\n",
        "def set_css():\n",
        "  display(HTML('''\n",
        "  <style>\n",
        "    pre {\n",
        "        white-space: pre-wrap;\n",
        "    }\n",
        "  </style>\n",
        "  '''))\n",
        "get_ipython().events.register('pre_run_cell', set_css)"
      ],
      "metadata": {
        "id": "RH5b-wC-lrcQ",
        "colab": {
          "base_uri": "https://localhost:8080/",
          "height": 17
        },
        "outputId": "a14adfac-7068-4646-970c-9a299f6270fb"
      },
      "execution_count": null,
      "outputs": [
        {
          "output_type": "display_data",
          "data": {
            "text/plain": [
              "<IPython.core.display.HTML object>"
            ],
            "text/html": [
              "\n",
              "  <style>\n",
              "    pre {\n",
              "        white-space: pre-wrap;\n",
              "    }\n",
              "  </style>\n",
              "  "
            ]
          },
          "metadata": {}
        }
      ]
    },
    {
      "cell_type": "code",
      "source": [
        "# # check for gpu\n",
        "\n",
        "# %tensorflow_version 2.x\n",
        "# import tensorflow as tf\n",
        "# device_name = tf.test.gpu_device_name()\n",
        "# if device_name != '/device:GPU:0':\n",
        "#   raise SystemError('GPU device not found')\n",
        "# print('Found GPU at: {}'.format(device_name))"
      ],
      "metadata": {
        "id": "08ELd5cIQXel",
        "colab": {
          "base_uri": "https://localhost:8080/",
          "height": 17
        },
        "outputId": "23620111-3a1c-4322-db95-fef22f198f28"
      },
      "execution_count": null,
      "outputs": [
        {
          "output_type": "display_data",
          "data": {
            "text/plain": [
              "<IPython.core.display.HTML object>"
            ],
            "text/html": [
              "\n",
              "  <style>\n",
              "    pre {\n",
              "        white-space: pre-wrap;\n",
              "    }\n",
              "  </style>\n",
              "  "
            ]
          },
          "metadata": {}
        },
        {
          "output_type": "display_data",
          "data": {
            "text/plain": [
              "<IPython.core.display.HTML object>"
            ],
            "text/html": [
              "\n",
              "  <style>\n",
              "    pre {\n",
              "        white-space: pre-wrap;\n",
              "    }\n",
              "  </style>\n",
              "  "
            ]
          },
          "metadata": {}
        }
      ]
    },
    {
      "cell_type": "markdown",
      "source": [
        "### **Dataset Import and Preprocessing**"
      ],
      "metadata": {
        "id": "uuwr_zFSFcrq"
      }
    },
    {
      "cell_type": "code",
      "source": [
        "# import dataset csv file\n",
        "dataset_url = 'https://raw.githubusercontent.com/kshitija17/Creative-Recipes-in-Culinary-Art/main/IndianFoodDatasetCSV.csv'\n",
        "data_frame = pd.read_csv(dataset_url)\n",
        "# data_frame"
      ],
      "metadata": {
        "id": "2ASQU-_UQXPh",
        "colab": {
          "base_uri": "https://localhost:8080/",
          "height": 17
        },
        "outputId": "c9e48a5d-6df2-46c4-a887-32e7c51cbfd2"
      },
      "execution_count": null,
      "outputs": [
        {
          "output_type": "display_data",
          "data": {
            "text/plain": [
              "<IPython.core.display.HTML object>"
            ],
            "text/html": [
              "\n",
              "  <style>\n",
              "    pre {\n",
              "        white-space: pre-wrap;\n",
              "    }\n",
              "  </style>\n",
              "  "
            ]
          },
          "metadata": {}
        },
        {
          "output_type": "display_data",
          "data": {
            "text/plain": [
              "<IPython.core.display.HTML object>"
            ],
            "text/html": [
              "\n",
              "  <style>\n",
              "    pre {\n",
              "        white-space: pre-wrap;\n",
              "    }\n",
              "  </style>\n",
              "  "
            ]
          },
          "metadata": {}
        }
      ]
    },
    {
      "cell_type": "code",
      "source": [
        "# create a data frame with recipe name, ingredients, and instructions from the dataset\n",
        "\n",
        "df = data_frame[['TranslatedRecipeName','TranslatedIngredients','TranslatedInstructions']]\n",
        "df = df.rename(columns={'TranslatedRecipeName':'RecipeName','TranslatedIngredients':'Ingredients','TranslatedInstructions':'Instructions'})\n",
        "df"
      ],
      "metadata": {
        "id": "4AGLugK0GHkX",
        "colab": {
          "base_uri": "https://localhost:8080/",
          "height": 423
        },
        "outputId": "80a4e48f-55cd-468f-9cf5-96a73024c295"
      },
      "execution_count": null,
      "outputs": [
        {
          "output_type": "display_data",
          "data": {
            "text/plain": [
              "<IPython.core.display.HTML object>"
            ],
            "text/html": [
              "\n",
              "  <style>\n",
              "    pre {\n",
              "        white-space: pre-wrap;\n",
              "    }\n",
              "  </style>\n",
              "  "
            ]
          },
          "metadata": {}
        },
        {
          "output_type": "display_data",
          "data": {
            "text/plain": [
              "<IPython.core.display.HTML object>"
            ],
            "text/html": [
              "\n",
              "  <style>\n",
              "    pre {\n",
              "        white-space: pre-wrap;\n",
              "    }\n",
              "  </style>\n",
              "  "
            ]
          },
          "metadata": {}
        },
        {
          "output_type": "execute_result",
          "data": {
            "text/plain": [
              "                                             RecipeName  \\\n",
              "0                                  Masala Karela Recipe   \n",
              "1                            Spicy Tomato Rice (Recipe)   \n",
              "2     Ragi Semiya Upma Recipe - Ragi Millet Vermicel...   \n",
              "3     Gongura Chicken Curry Recipe - Andhra Style Go...   \n",
              "4     Andhra Style Alam Pachadi Recipe - Adrak Chutn...   \n",
              "...                                                 ...   \n",
              "6866                        Goan Mushroom Xacuti Recipe   \n",
              "6867        Sweet Potato & Methi Stuffed Paratha Recipe   \n",
              "6868      Ullikadala Pulusu Recipe | Spring Onion Curry   \n",
              "6869  Kashmiri Style Kokur Yakhni Recipe-Chicken Coo...   \n",
              "6870                                 Navrang Dal Recipe   \n",
              "\n",
              "                                            Ingredients  \\\n",
              "0     6 Karela (Bitter Gourd/ Pavakkai) - deseeded,S...   \n",
              "1     2-1 / 2 cups rice - cooked, 3 tomatoes, 3 teas...   \n",
              "2     1-1/2 cups Rice Vermicelli Noodles (Thin),1 On...   \n",
              "3     500 grams Chicken,2 Onion - chopped,1 Tomato -...   \n",
              "4     1 tablespoon chana dal, 1 tablespoon white ura...   \n",
              "...                                                 ...   \n",
              "6866  20 बटन मशरुम,2 प्याज - काट ले,1 टमाटर - बारीक ...   \n",
              "6867  1 बड़ा चम्मच तेल,1 कप गेहूं का आटा,नमक - स्वाद ...   \n",
              "6868  150 grams Spring Onion (Bulb & Greens) - chopp...   \n",
              "6869  1 kg Chicken - medium pieces,1/2 cup Mustard o...   \n",
              "6870  2 बड़े चम्मच हरी मूंग दाल,2 बड़े चम्मच सफ़ेद उरद ...   \n",
              "\n",
              "                                           Instructions  \n",
              "0     To begin making the Masala Karela Recipe,de-se...  \n",
              "1     To make tomato puliogere, first cut the tomato...  \n",
              "2     To begin making the Ragi Vermicelli Recipe, fi...  \n",
              "3     To begin making Gongura Chicken Curry Recipe f...  \n",
              "4     To make Andhra Style Alam Pachadi, first heat ...  \n",
              "...                                                 ...  \n",
              "6866  गोअन मशरुम जकुटी रेसिपी बनाने के लिए सबसे पहले...  \n",
              "6867  शकरकंदी और मेथी का पराठा रेसिपी बनाने के लिए स...  \n",
              "6868  To begin making Ullikadala Pulusu Recipe | Spr...  \n",
              "6869  To begin making the Kashmiri Kokur Yakhni reci...  \n",
              "6870  नवरंग दाल रेसिपी  बनाने के लिए सबसे पहले सारी ...  \n",
              "\n",
              "[6871 rows x 3 columns]"
            ],
            "text/html": [
              "\n",
              "  <div id=\"df-e73e0c5f-7e94-424b-8b97-f188dc6dfcf3\">\n",
              "    <div class=\"colab-df-container\">\n",
              "      <div>\n",
              "<style scoped>\n",
              "    .dataframe tbody tr th:only-of-type {\n",
              "        vertical-align: middle;\n",
              "    }\n",
              "\n",
              "    .dataframe tbody tr th {\n",
              "        vertical-align: top;\n",
              "    }\n",
              "\n",
              "    .dataframe thead th {\n",
              "        text-align: right;\n",
              "    }\n",
              "</style>\n",
              "<table border=\"1\" class=\"dataframe\">\n",
              "  <thead>\n",
              "    <tr style=\"text-align: right;\">\n",
              "      <th></th>\n",
              "      <th>RecipeName</th>\n",
              "      <th>Ingredients</th>\n",
              "      <th>Instructions</th>\n",
              "    </tr>\n",
              "  </thead>\n",
              "  <tbody>\n",
              "    <tr>\n",
              "      <th>0</th>\n",
              "      <td>Masala Karela Recipe</td>\n",
              "      <td>6 Karela (Bitter Gourd/ Pavakkai) - deseeded,S...</td>\n",
              "      <td>To begin making the Masala Karela Recipe,de-se...</td>\n",
              "    </tr>\n",
              "    <tr>\n",
              "      <th>1</th>\n",
              "      <td>Spicy Tomato Rice (Recipe)</td>\n",
              "      <td>2-1 / 2 cups rice - cooked, 3 tomatoes, 3 teas...</td>\n",
              "      <td>To make tomato puliogere, first cut the tomato...</td>\n",
              "    </tr>\n",
              "    <tr>\n",
              "      <th>2</th>\n",
              "      <td>Ragi Semiya Upma Recipe - Ragi Millet Vermicel...</td>\n",
              "      <td>1-1/2 cups Rice Vermicelli Noodles (Thin),1 On...</td>\n",
              "      <td>To begin making the Ragi Vermicelli Recipe, fi...</td>\n",
              "    </tr>\n",
              "    <tr>\n",
              "      <th>3</th>\n",
              "      <td>Gongura Chicken Curry Recipe - Andhra Style Go...</td>\n",
              "      <td>500 grams Chicken,2 Onion - chopped,1 Tomato -...</td>\n",
              "      <td>To begin making Gongura Chicken Curry Recipe f...</td>\n",
              "    </tr>\n",
              "    <tr>\n",
              "      <th>4</th>\n",
              "      <td>Andhra Style Alam Pachadi Recipe - Adrak Chutn...</td>\n",
              "      <td>1 tablespoon chana dal, 1 tablespoon white ura...</td>\n",
              "      <td>To make Andhra Style Alam Pachadi, first heat ...</td>\n",
              "    </tr>\n",
              "    <tr>\n",
              "      <th>...</th>\n",
              "      <td>...</td>\n",
              "      <td>...</td>\n",
              "      <td>...</td>\n",
              "    </tr>\n",
              "    <tr>\n",
              "      <th>6866</th>\n",
              "      <td>Goan Mushroom Xacuti Recipe</td>\n",
              "      <td>20 बटन मशरुम,2 प्याज - काट ले,1 टमाटर - बारीक ...</td>\n",
              "      <td>गोअन मशरुम जकुटी रेसिपी बनाने के लिए सबसे पहले...</td>\n",
              "    </tr>\n",
              "    <tr>\n",
              "      <th>6867</th>\n",
              "      <td>Sweet Potato &amp; Methi Stuffed Paratha Recipe</td>\n",
              "      <td>1 बड़ा चम्मच तेल,1 कप गेहूं का आटा,नमक - स्वाद ...</td>\n",
              "      <td>शकरकंदी और मेथी का पराठा रेसिपी बनाने के लिए स...</td>\n",
              "    </tr>\n",
              "    <tr>\n",
              "      <th>6868</th>\n",
              "      <td>Ullikadala Pulusu Recipe | Spring Onion Curry</td>\n",
              "      <td>150 grams Spring Onion (Bulb &amp; Greens) - chopp...</td>\n",
              "      <td>To begin making Ullikadala Pulusu Recipe | Spr...</td>\n",
              "    </tr>\n",
              "    <tr>\n",
              "      <th>6869</th>\n",
              "      <td>Kashmiri Style Kokur Yakhni Recipe-Chicken Coo...</td>\n",
              "      <td>1 kg Chicken - medium pieces,1/2 cup Mustard o...</td>\n",
              "      <td>To begin making the Kashmiri Kokur Yakhni reci...</td>\n",
              "    </tr>\n",
              "    <tr>\n",
              "      <th>6870</th>\n",
              "      <td>Navrang Dal Recipe</td>\n",
              "      <td>2 बड़े चम्मच हरी मूंग दाल,2 बड़े चम्मच सफ़ेद उरद ...</td>\n",
              "      <td>नवरंग दाल रेसिपी  बनाने के लिए सबसे पहले सारी ...</td>\n",
              "    </tr>\n",
              "  </tbody>\n",
              "</table>\n",
              "<p>6871 rows × 3 columns</p>\n",
              "</div>\n",
              "      <button class=\"colab-df-convert\" onclick=\"convertToInteractive('df-e73e0c5f-7e94-424b-8b97-f188dc6dfcf3')\"\n",
              "              title=\"Convert this dataframe to an interactive table.\"\n",
              "              style=\"display:none;\">\n",
              "        \n",
              "  <svg xmlns=\"http://www.w3.org/2000/svg\" height=\"24px\"viewBox=\"0 0 24 24\"\n",
              "       width=\"24px\">\n",
              "    <path d=\"M0 0h24v24H0V0z\" fill=\"none\"/>\n",
              "    <path d=\"M18.56 5.44l.94 2.06.94-2.06 2.06-.94-2.06-.94-.94-2.06-.94 2.06-2.06.94zm-11 1L8.5 8.5l.94-2.06 2.06-.94-2.06-.94L8.5 2.5l-.94 2.06-2.06.94zm10 10l.94 2.06.94-2.06 2.06-.94-2.06-.94-.94-2.06-.94 2.06-2.06.94z\"/><path d=\"M17.41 7.96l-1.37-1.37c-.4-.4-.92-.59-1.43-.59-.52 0-1.04.2-1.43.59L10.3 9.45l-7.72 7.72c-.78.78-.78 2.05 0 2.83L4 21.41c.39.39.9.59 1.41.59.51 0 1.02-.2 1.41-.59l7.78-7.78 2.81-2.81c.8-.78.8-2.07 0-2.86zM5.41 20L4 18.59l7.72-7.72 1.47 1.35L5.41 20z\"/>\n",
              "  </svg>\n",
              "      </button>\n",
              "      \n",
              "  <style>\n",
              "    .colab-df-container {\n",
              "      display:flex;\n",
              "      flex-wrap:wrap;\n",
              "      gap: 12px;\n",
              "    }\n",
              "\n",
              "    .colab-df-convert {\n",
              "      background-color: #E8F0FE;\n",
              "      border: none;\n",
              "      border-radius: 50%;\n",
              "      cursor: pointer;\n",
              "      display: none;\n",
              "      fill: #1967D2;\n",
              "      height: 32px;\n",
              "      padding: 0 0 0 0;\n",
              "      width: 32px;\n",
              "    }\n",
              "\n",
              "    .colab-df-convert:hover {\n",
              "      background-color: #E2EBFA;\n",
              "      box-shadow: 0px 1px 2px rgba(60, 64, 67, 0.3), 0px 1px 3px 1px rgba(60, 64, 67, 0.15);\n",
              "      fill: #174EA6;\n",
              "    }\n",
              "\n",
              "    [theme=dark] .colab-df-convert {\n",
              "      background-color: #3B4455;\n",
              "      fill: #D2E3FC;\n",
              "    }\n",
              "\n",
              "    [theme=dark] .colab-df-convert:hover {\n",
              "      background-color: #434B5C;\n",
              "      box-shadow: 0px 1px 3px 1px rgba(0, 0, 0, 0.15);\n",
              "      filter: drop-shadow(0px 1px 2px rgba(0, 0, 0, 0.3));\n",
              "      fill: #FFFFFF;\n",
              "    }\n",
              "  </style>\n",
              "\n",
              "      <script>\n",
              "        const buttonEl =\n",
              "          document.querySelector('#df-e73e0c5f-7e94-424b-8b97-f188dc6dfcf3 button.colab-df-convert');\n",
              "        buttonEl.style.display =\n",
              "          google.colab.kernel.accessAllowed ? 'block' : 'none';\n",
              "\n",
              "        async function convertToInteractive(key) {\n",
              "          const element = document.querySelector('#df-e73e0c5f-7e94-424b-8b97-f188dc6dfcf3');\n",
              "          const dataTable =\n",
              "            await google.colab.kernel.invokeFunction('convertToInteractive',\n",
              "                                                     [key], {});\n",
              "          if (!dataTable) return;\n",
              "\n",
              "          const docLinkHtml = 'Like what you see? Visit the ' +\n",
              "            '<a target=\"_blank\" href=https://colab.research.google.com/notebooks/data_table.ipynb>data table notebook</a>'\n",
              "            + ' to learn more about interactive tables.';\n",
              "          element.innerHTML = '';\n",
              "          dataTable['output_type'] = 'display_data';\n",
              "          await google.colab.output.renderOutput(dataTable, element);\n",
              "          const docLink = document.createElement('div');\n",
              "          docLink.innerHTML = docLinkHtml;\n",
              "          element.appendChild(docLink);\n",
              "        }\n",
              "      </script>\n",
              "    </div>\n",
              "  </div>\n",
              "  "
            ]
          },
          "metadata": {},
          "execution_count": 49
        }
      ]
    },
    {
      "cell_type": "code",
      "source": [
        "# detect language for all columns\n",
        "\n",
        "from langdetect import detect\n",
        "\n",
        "df['detectInstructions'] = df['Instructions'].apply(detect)\n",
        "df['detectIngredients'] = df['Ingredients'].astype(str).apply(detect)\n",
        "df['detectRecipeName'] = df['RecipeName'].astype(str).apply(detect)\n",
        "\n",
        "\n",
        "# filter rows, Keep only recipes written in English\n",
        "df = df[df['detectInstructions'] == 'en']\n",
        "df = df[df['detectIngredients'] == 'en']\n",
        "df = df[df['detectRecipeName'] == 'en']\n",
        "\n",
        "df"
      ],
      "metadata": {
        "id": "oHtsZRSrGHg_",
        "colab": {
          "base_uri": "https://localhost:8080/",
          "height": 641
        },
        "outputId": "e8f047df-2726-46f9-cdd9-2589c1be9a32"
      },
      "execution_count": null,
      "outputs": [
        {
          "output_type": "display_data",
          "data": {
            "text/plain": [
              "<IPython.core.display.HTML object>"
            ],
            "text/html": [
              "\n",
              "  <style>\n",
              "    pre {\n",
              "        white-space: pre-wrap;\n",
              "    }\n",
              "  </style>\n",
              "  "
            ]
          },
          "metadata": {}
        },
        {
          "output_type": "display_data",
          "data": {
            "text/plain": [
              "<IPython.core.display.HTML object>"
            ],
            "text/html": [
              "\n",
              "  <style>\n",
              "    pre {\n",
              "        white-space: pre-wrap;\n",
              "    }\n",
              "  </style>\n",
              "  "
            ]
          },
          "metadata": {}
        },
        {
          "output_type": "execute_result",
          "data": {
            "text/plain": [
              "                                             RecipeName  \\\n",
              "1                            Spicy Tomato Rice (Recipe)   \n",
              "3     Gongura Chicken Curry Recipe - Andhra Style Go...   \n",
              "4     Andhra Style Alam Pachadi Recipe - Adrak Chutn...   \n",
              "5     Pudina Khara Pongal Recipe (Rice and Lentils C...   \n",
              "6            Udupi Style Ash Gourd Coconut Curry Recipe   \n",
              "...                                                 ...   \n",
              "6862  Creamy Spinach And Potato Breakfast Casserole ...   \n",
              "6863                         Saffron Paneer Peda Recipe   \n",
              "6864  Italian Arancini Rice Balls Recipe With Delici...   \n",
              "6865        Quinoa Phirnee Recipe (Quinoa Milk Pudding)   \n",
              "6869  Kashmiri Style Kokur Yakhni Recipe-Chicken Coo...   \n",
              "\n",
              "                                            Ingredients  \\\n",
              "1     2-1 / 2 cups rice - cooked, 3 tomatoes, 3 teas...   \n",
              "3     500 grams Chicken,2 Onion - chopped,1 Tomato -...   \n",
              "4     1 tablespoon chana dal, 1 tablespoon white ura...   \n",
              "5     1 cup Rice - soaked for 20 minutes,1/2 cup Yel...   \n",
              "6     500 grams Vellai Poosanikai (Ash gourd/White P...   \n",
              "...                                                 ...   \n",
              "6862  1/2 cup Onions - chopped,1 cup Soy Chunks (Nug...   \n",
              "6863  2 cups Paneer (Homemade Cottage Cheese) - crum...   \n",
              "6864  1-1/2 cup Risotto - cooked risotto (recipe bel...   \n",
              "6865  1 cup Quinoa,3/4 cup Sugar,1 teaspoon Cardamom...   \n",
              "6869  1 kg Chicken - medium pieces,1/2 cup Mustard o...   \n",
              "\n",
              "                                           Instructions detectInstructions  \\\n",
              "1     To make tomato puliogere, first cut the tomato...                 en   \n",
              "3     To begin making Gongura Chicken Curry Recipe f...                 en   \n",
              "4     To make Andhra Style Alam Pachadi, first heat ...                 en   \n",
              "5     To begin making Pudina Khara Pongal Recipe, wa...                 en   \n",
              "6     To begin making the Udupi Style Ash Gourd Coco...                 en   \n",
              "...                                                 ...                ...   \n",
              "6862  To begin making Creamy Spinach And Potato Brea...                 en   \n",
              "6863  To begin making the Saffron Paneer Peda recipe...                 en   \n",
              "6864  To begin making the Italian Arancini Rice Ball...                 en   \n",
              "6865  To begin making Quinoa Phirnee Recipe, place a...                 en   \n",
              "6869  To begin making the Kashmiri Kokur Yakhni reci...                 en   \n",
              "\n",
              "     detectIngredients detectRecipeName  \n",
              "1                   en               en  \n",
              "3                   en               en  \n",
              "4                   en               en  \n",
              "5                   en               en  \n",
              "6                   en               en  \n",
              "...                ...              ...  \n",
              "6862                en               en  \n",
              "6863                en               en  \n",
              "6864                en               en  \n",
              "6865                en               en  \n",
              "6869                en               en  \n",
              "\n",
              "[4071 rows x 6 columns]"
            ],
            "text/html": [
              "\n",
              "  <div id=\"df-a6329ec2-91c3-4b22-a75c-d69ab7b35b81\">\n",
              "    <div class=\"colab-df-container\">\n",
              "      <div>\n",
              "<style scoped>\n",
              "    .dataframe tbody tr th:only-of-type {\n",
              "        vertical-align: middle;\n",
              "    }\n",
              "\n",
              "    .dataframe tbody tr th {\n",
              "        vertical-align: top;\n",
              "    }\n",
              "\n",
              "    .dataframe thead th {\n",
              "        text-align: right;\n",
              "    }\n",
              "</style>\n",
              "<table border=\"1\" class=\"dataframe\">\n",
              "  <thead>\n",
              "    <tr style=\"text-align: right;\">\n",
              "      <th></th>\n",
              "      <th>RecipeName</th>\n",
              "      <th>Ingredients</th>\n",
              "      <th>Instructions</th>\n",
              "      <th>detectInstructions</th>\n",
              "      <th>detectIngredients</th>\n",
              "      <th>detectRecipeName</th>\n",
              "    </tr>\n",
              "  </thead>\n",
              "  <tbody>\n",
              "    <tr>\n",
              "      <th>1</th>\n",
              "      <td>Spicy Tomato Rice (Recipe)</td>\n",
              "      <td>2-1 / 2 cups rice - cooked, 3 tomatoes, 3 teas...</td>\n",
              "      <td>To make tomato puliogere, first cut the tomato...</td>\n",
              "      <td>en</td>\n",
              "      <td>en</td>\n",
              "      <td>en</td>\n",
              "    </tr>\n",
              "    <tr>\n",
              "      <th>3</th>\n",
              "      <td>Gongura Chicken Curry Recipe - Andhra Style Go...</td>\n",
              "      <td>500 grams Chicken,2 Onion - chopped,1 Tomato -...</td>\n",
              "      <td>To begin making Gongura Chicken Curry Recipe f...</td>\n",
              "      <td>en</td>\n",
              "      <td>en</td>\n",
              "      <td>en</td>\n",
              "    </tr>\n",
              "    <tr>\n",
              "      <th>4</th>\n",
              "      <td>Andhra Style Alam Pachadi Recipe - Adrak Chutn...</td>\n",
              "      <td>1 tablespoon chana dal, 1 tablespoon white ura...</td>\n",
              "      <td>To make Andhra Style Alam Pachadi, first heat ...</td>\n",
              "      <td>en</td>\n",
              "      <td>en</td>\n",
              "      <td>en</td>\n",
              "    </tr>\n",
              "    <tr>\n",
              "      <th>5</th>\n",
              "      <td>Pudina Khara Pongal Recipe (Rice and Lentils C...</td>\n",
              "      <td>1 cup Rice - soaked for 20 minutes,1/2 cup Yel...</td>\n",
              "      <td>To begin making Pudina Khara Pongal Recipe, wa...</td>\n",
              "      <td>en</td>\n",
              "      <td>en</td>\n",
              "      <td>en</td>\n",
              "    </tr>\n",
              "    <tr>\n",
              "      <th>6</th>\n",
              "      <td>Udupi Style Ash Gourd Coconut Curry Recipe</td>\n",
              "      <td>500 grams Vellai Poosanikai (Ash gourd/White P...</td>\n",
              "      <td>To begin making the Udupi Style Ash Gourd Coco...</td>\n",
              "      <td>en</td>\n",
              "      <td>en</td>\n",
              "      <td>en</td>\n",
              "    </tr>\n",
              "    <tr>\n",
              "      <th>...</th>\n",
              "      <td>...</td>\n",
              "      <td>...</td>\n",
              "      <td>...</td>\n",
              "      <td>...</td>\n",
              "      <td>...</td>\n",
              "      <td>...</td>\n",
              "    </tr>\n",
              "    <tr>\n",
              "      <th>6862</th>\n",
              "      <td>Creamy Spinach And Potato Breakfast Casserole ...</td>\n",
              "      <td>1/2 cup Onions - chopped,1 cup Soy Chunks (Nug...</td>\n",
              "      <td>To begin making Creamy Spinach And Potato Brea...</td>\n",
              "      <td>en</td>\n",
              "      <td>en</td>\n",
              "      <td>en</td>\n",
              "    </tr>\n",
              "    <tr>\n",
              "      <th>6863</th>\n",
              "      <td>Saffron Paneer Peda Recipe</td>\n",
              "      <td>2 cups Paneer (Homemade Cottage Cheese) - crum...</td>\n",
              "      <td>To begin making the Saffron Paneer Peda recipe...</td>\n",
              "      <td>en</td>\n",
              "      <td>en</td>\n",
              "      <td>en</td>\n",
              "    </tr>\n",
              "    <tr>\n",
              "      <th>6864</th>\n",
              "      <td>Italian Arancini Rice Balls Recipe With Delici...</td>\n",
              "      <td>1-1/2 cup Risotto - cooked risotto (recipe bel...</td>\n",
              "      <td>To begin making the Italian Arancini Rice Ball...</td>\n",
              "      <td>en</td>\n",
              "      <td>en</td>\n",
              "      <td>en</td>\n",
              "    </tr>\n",
              "    <tr>\n",
              "      <th>6865</th>\n",
              "      <td>Quinoa Phirnee Recipe (Quinoa Milk Pudding)</td>\n",
              "      <td>1 cup Quinoa,3/4 cup Sugar,1 teaspoon Cardamom...</td>\n",
              "      <td>To begin making Quinoa Phirnee Recipe, place a...</td>\n",
              "      <td>en</td>\n",
              "      <td>en</td>\n",
              "      <td>en</td>\n",
              "    </tr>\n",
              "    <tr>\n",
              "      <th>6869</th>\n",
              "      <td>Kashmiri Style Kokur Yakhni Recipe-Chicken Coo...</td>\n",
              "      <td>1 kg Chicken - medium pieces,1/2 cup Mustard o...</td>\n",
              "      <td>To begin making the Kashmiri Kokur Yakhni reci...</td>\n",
              "      <td>en</td>\n",
              "      <td>en</td>\n",
              "      <td>en</td>\n",
              "    </tr>\n",
              "  </tbody>\n",
              "</table>\n",
              "<p>4071 rows × 6 columns</p>\n",
              "</div>\n",
              "      <button class=\"colab-df-convert\" onclick=\"convertToInteractive('df-a6329ec2-91c3-4b22-a75c-d69ab7b35b81')\"\n",
              "              title=\"Convert this dataframe to an interactive table.\"\n",
              "              style=\"display:none;\">\n",
              "        \n",
              "  <svg xmlns=\"http://www.w3.org/2000/svg\" height=\"24px\"viewBox=\"0 0 24 24\"\n",
              "       width=\"24px\">\n",
              "    <path d=\"M0 0h24v24H0V0z\" fill=\"none\"/>\n",
              "    <path d=\"M18.56 5.44l.94 2.06.94-2.06 2.06-.94-2.06-.94-.94-2.06-.94 2.06-2.06.94zm-11 1L8.5 8.5l.94-2.06 2.06-.94-2.06-.94L8.5 2.5l-.94 2.06-2.06.94zm10 10l.94 2.06.94-2.06 2.06-.94-2.06-.94-.94-2.06-.94 2.06-2.06.94z\"/><path d=\"M17.41 7.96l-1.37-1.37c-.4-.4-.92-.59-1.43-.59-.52 0-1.04.2-1.43.59L10.3 9.45l-7.72 7.72c-.78.78-.78 2.05 0 2.83L4 21.41c.39.39.9.59 1.41.59.51 0 1.02-.2 1.41-.59l7.78-7.78 2.81-2.81c.8-.78.8-2.07 0-2.86zM5.41 20L4 18.59l7.72-7.72 1.47 1.35L5.41 20z\"/>\n",
              "  </svg>\n",
              "      </button>\n",
              "      \n",
              "  <style>\n",
              "    .colab-df-container {\n",
              "      display:flex;\n",
              "      flex-wrap:wrap;\n",
              "      gap: 12px;\n",
              "    }\n",
              "\n",
              "    .colab-df-convert {\n",
              "      background-color: #E8F0FE;\n",
              "      border: none;\n",
              "      border-radius: 50%;\n",
              "      cursor: pointer;\n",
              "      display: none;\n",
              "      fill: #1967D2;\n",
              "      height: 32px;\n",
              "      padding: 0 0 0 0;\n",
              "      width: 32px;\n",
              "    }\n",
              "\n",
              "    .colab-df-convert:hover {\n",
              "      background-color: #E2EBFA;\n",
              "      box-shadow: 0px 1px 2px rgba(60, 64, 67, 0.3), 0px 1px 3px 1px rgba(60, 64, 67, 0.15);\n",
              "      fill: #174EA6;\n",
              "    }\n",
              "\n",
              "    [theme=dark] .colab-df-convert {\n",
              "      background-color: #3B4455;\n",
              "      fill: #D2E3FC;\n",
              "    }\n",
              "\n",
              "    [theme=dark] .colab-df-convert:hover {\n",
              "      background-color: #434B5C;\n",
              "      box-shadow: 0px 1px 3px 1px rgba(0, 0, 0, 0.15);\n",
              "      filter: drop-shadow(0px 1px 2px rgba(0, 0, 0, 0.3));\n",
              "      fill: #FFFFFF;\n",
              "    }\n",
              "  </style>\n",
              "\n",
              "      <script>\n",
              "        const buttonEl =\n",
              "          document.querySelector('#df-a6329ec2-91c3-4b22-a75c-d69ab7b35b81 button.colab-df-convert');\n",
              "        buttonEl.style.display =\n",
              "          google.colab.kernel.accessAllowed ? 'block' : 'none';\n",
              "\n",
              "        async function convertToInteractive(key) {\n",
              "          const element = document.querySelector('#df-a6329ec2-91c3-4b22-a75c-d69ab7b35b81');\n",
              "          const dataTable =\n",
              "            await google.colab.kernel.invokeFunction('convertToInteractive',\n",
              "                                                     [key], {});\n",
              "          if (!dataTable) return;\n",
              "\n",
              "          const docLinkHtml = 'Like what you see? Visit the ' +\n",
              "            '<a target=\"_blank\" href=https://colab.research.google.com/notebooks/data_table.ipynb>data table notebook</a>'\n",
              "            + ' to learn more about interactive tables.';\n",
              "          element.innerHTML = '';\n",
              "          dataTable['output_type'] = 'display_data';\n",
              "          await google.colab.output.renderOutput(dataTable, element);\n",
              "          const docLink = document.createElement('div');\n",
              "          docLink.innerHTML = docLinkHtml;\n",
              "          element.appendChild(docLink);\n",
              "        }\n",
              "      </script>\n",
              "    </div>\n",
              "  </div>\n",
              "  "
            ]
          },
          "metadata": {},
          "execution_count": 50
        }
      ]
    },
    {
      "cell_type": "code",
      "source": [
        "# adding stop words for recipe name, ingredients, instructions\n",
        "\n",
        "stop_word_recipe_name = '$'\n",
        "stop_word_recipe_ingredients = '@'\n",
        "stop_word_recipe_instructions = '*'\n",
        "\n",
        "# Combine recipe name, ingredients, instructions  in a single string\n",
        "\n",
        "def convert_to_string(recipeName, ingredients, instructions): \n",
        "  return f'{stop_word_recipe_name}{recipeName}\\n{stop_word_recipe_ingredients}{ingredients}\\n{stop_word_recipe_instructions}{instructions}'\n",
        "\n",
        "recipes_in_string = [convert_to_string(row[0], row[1], row[2]) for row in df[['RecipeName','Ingredients','Instructions']].to_numpy()]\n",
        "\n",
        "# print sample recipe string\n",
        "print(recipes_in_string[0])"
      ],
      "metadata": {
        "id": "bdIj5Wv4GHeN",
        "colab": {
          "base_uri": "https://localhost:8080/",
          "height": 173
        },
        "outputId": "47d8aedd-fa70-4992-e3df-64af393c308e"
      },
      "execution_count": null,
      "outputs": [
        {
          "output_type": "display_data",
          "data": {
            "text/plain": [
              "<IPython.core.display.HTML object>"
            ],
            "text/html": [
              "\n",
              "  <style>\n",
              "    pre {\n",
              "        white-space: pre-wrap;\n",
              "    }\n",
              "  </style>\n",
              "  "
            ]
          },
          "metadata": {}
        },
        {
          "output_type": "display_data",
          "data": {
            "text/plain": [
              "<IPython.core.display.HTML object>"
            ],
            "text/html": [
              "\n",
              "  <style>\n",
              "    pre {\n",
              "        white-space: pre-wrap;\n",
              "    }\n",
              "  </style>\n",
              "  "
            ]
          },
          "metadata": {}
        },
        {
          "output_type": "stream",
          "name": "stdout",
          "text": [
            "$Spicy Tomato Rice (Recipe)\n",
            "@2-1 / 2 cups rice - cooked, 3 tomatoes, 3 teaspoons BC Belle Bhat powder, salt - as per taste, 1 teaspoon chickpea lentils, 1/2 teaspoon cumin seeds, 1 teaspoon white urad dal, 1/2 Teaspoon mustard, 1 green chilli, 1 dry red chilli, 2 teaspoon cashew - or peanuts, 1-1 / 2 tablespoon oil - 1/2 teaspoon asafoetida\n",
            "*To make tomato puliogere, first cut the tomatoes. Now put in a mixer grinder and puree it. Now heat oil in a pan. After the oil is hot, add chana dal, urad dal, cashew and let it cook for 10 to 20 seconds. After 10 to 20 seconds, add cumin seeds, mustard seeds, green chillies, dry red chillies and curry leaves. After 30 seconds, add tomato puree to it and mix. Add BC Belle Bhat powder, salt and mix it. Allow to cook for 7 to 8 minutes and then turn off the gas. Take it out in a bowl, add cooked rice and mix it. Serve hot. Serve tomato puliogre with tomato cucumber raita and papad for dinner.\n"
          ]
        }
      ]
    },
    {
      "cell_type": "code",
      "source": [
        "# set maximum recipe length to consider\n",
        "\n",
        "max_recipe_length = 2000\n",
        "\n",
        "def recipes_filtered_by_length(recipe):\n",
        "    return len(recipe) <= max_recipe_length\n",
        "\n",
        "filtered_recipe_dataset = [recipe for recipe in recipes_in_string if recipes_filtered_by_length(recipe)]\n",
        "print(filtered_recipe_dataset[0])"
      ],
      "metadata": {
        "id": "woZb4cV6GHbv",
        "colab": {
          "base_uri": "https://localhost:8080/",
          "height": 173
        },
        "outputId": "9d33b4b3-ce27-487a-a02c-4706c69c18b7"
      },
      "execution_count": null,
      "outputs": [
        {
          "output_type": "display_data",
          "data": {
            "text/plain": [
              "<IPython.core.display.HTML object>"
            ],
            "text/html": [
              "\n",
              "  <style>\n",
              "    pre {\n",
              "        white-space: pre-wrap;\n",
              "    }\n",
              "  </style>\n",
              "  "
            ]
          },
          "metadata": {}
        },
        {
          "output_type": "display_data",
          "data": {
            "text/plain": [
              "<IPython.core.display.HTML object>"
            ],
            "text/html": [
              "\n",
              "  <style>\n",
              "    pre {\n",
              "        white-space: pre-wrap;\n",
              "    }\n",
              "  </style>\n",
              "  "
            ]
          },
          "metadata": {}
        },
        {
          "output_type": "stream",
          "name": "stdout",
          "text": [
            "$Spicy Tomato Rice (Recipe)\n",
            "@2-1 / 2 cups rice - cooked, 3 tomatoes, 3 teaspoons BC Belle Bhat powder, salt - as per taste, 1 teaspoon chickpea lentils, 1/2 teaspoon cumin seeds, 1 teaspoon white urad dal, 1/2 Teaspoon mustard, 1 green chilli, 1 dry red chilli, 2 teaspoon cashew - or peanuts, 1-1 / 2 tablespoon oil - 1/2 teaspoon asafoetida\n",
            "*To make tomato puliogere, first cut the tomatoes. Now put in a mixer grinder and puree it. Now heat oil in a pan. After the oil is hot, add chana dal, urad dal, cashew and let it cook for 10 to 20 seconds. After 10 to 20 seconds, add cumin seeds, mustard seeds, green chillies, dry red chillies and curry leaves. After 30 seconds, add tomato puree to it and mix. Add BC Belle Bhat powder, salt and mix it. Allow to cook for 7 to 8 minutes and then turn off the gas. Take it out in a bowl, add cooked rice and mix it. Serve hot. Serve tomato puliogre with tomato cucumber raita and papad for dinner.\n"
          ]
        }
      ]
    },
    {
      "cell_type": "code",
      "source": [
        "# Create a vocabulary with tokenizer using Keras\n",
        "\n",
        "# add stop sign\n",
        "stop_sign = '~'\n",
        "tokenizer = tf.keras.preprocessing.text.Tokenizer( char_level = True, filters='', lower=False, split=' ')\n",
        "tokenizer.fit_on_texts([stop_sign])\n",
        "tokenizer.fit_on_texts(filtered_recipe_dataset)\n",
        "tokenizer.get_config()\n",
        "\n",
        "# check vocabulary size\n",
        "\n",
        "\n",
        "# The vocabulary size of pretrained model is 122. \n",
        "# Please note that the vocabulary size is changing everytime I execute the create vocabulary code. \n",
        "vocabulary_size = 122\n",
        "\n",
        "# please execute the below line if you are planning to train the model again\n",
        "# vocabulary_size = len(tokenizer.word_counts) + 1\n",
        "\n",
        "\n",
        "print('VOCABULARY_SIZE: ', vocabulary_size)\n"
      ],
      "metadata": {
        "id": "V-TuJOU8GHSv",
        "colab": {
          "base_uri": "https://localhost:8080/",
          "height": 35
        },
        "outputId": "5d30a670-b98d-4723-c40f-1aebb5d27736"
      },
      "execution_count": null,
      "outputs": [
        {
          "output_type": "display_data",
          "data": {
            "text/plain": [
              "<IPython.core.display.HTML object>"
            ],
            "text/html": [
              "\n",
              "  <style>\n",
              "    pre {\n",
              "        white-space: pre-wrap;\n",
              "    }\n",
              "  </style>\n",
              "  "
            ]
          },
          "metadata": {}
        },
        {
          "output_type": "display_data",
          "data": {
            "text/plain": [
              "<IPython.core.display.HTML object>"
            ],
            "text/html": [
              "\n",
              "  <style>\n",
              "    pre {\n",
              "        white-space: pre-wrap;\n",
              "    }\n",
              "  </style>\n",
              "  "
            ]
          },
          "metadata": {}
        },
        {
          "output_type": "stream",
          "name": "stdout",
          "text": [
            "VOCABULARY_SIZE:  122\n"
          ]
        }
      ]
    },
    {
      "cell_type": "code",
      "source": [
        "# print statements for testing \n",
        "\n",
        "# print(tokenizer.index_word[5])\n",
        "# print(tokenizer.index_word[20])\n",
        "\n",
        "\n",
        "# character to tokenize\n",
        "# tokenizer.word_index['o']\n",
        "\n",
        "# print character\n",
        "\n",
        "array_vocabulary = tokenizer.sequences_to_texts([[word_index] for word_index in range(vocabulary_size)])\n",
        "print([char for char in array_vocabulary])\n",
        "# print(type(array_vocabulary))\n",
        "\n",
        "# only_ascii = array_vocabulary.encode(\"ascii\", \"ignore\").decode()\n",
        "# only_ascii_vocabulary = [x.encode(\"ascii\", \"ignore\") for x in array_vocabulary]\n",
        "# only_ascii_vocabulary =  list(filter(None, only_ascii_vocabulary))\n",
        "# print(only_ascii_vocabulary)\n",
        "# print()\n",
        "\n",
        "# vocabulary_size = len(only_ascii_vocabulary)\n",
        "# print('VOCABULARY_SIZE: ', vocabulary_size)"
      ],
      "metadata": {
        "id": "TiW_ldkQjJva",
        "colab": {
          "base_uri": "https://localhost:8080/",
          "height": 104
        },
        "outputId": "80aa377d-d898-4234-87b1-11b428f010de"
      },
      "execution_count": null,
      "outputs": [
        {
          "output_type": "display_data",
          "data": {
            "text/plain": [
              "<IPython.core.display.HTML object>"
            ],
            "text/html": [
              "\n",
              "  <style>\n",
              "    pre {\n",
              "        white-space: pre-wrap;\n",
              "    }\n",
              "  </style>\n",
              "  "
            ]
          },
          "metadata": {}
        },
        {
          "output_type": "display_data",
          "data": {
            "text/plain": [
              "<IPython.core.display.HTML object>"
            ],
            "text/html": [
              "\n",
              "  <style>\n",
              "    pre {\n",
              "        white-space: pre-wrap;\n",
              "    }\n",
              "  </style>\n",
              "  "
            ]
          },
          "metadata": {}
        },
        {
          "output_type": "stream",
          "name": "stdout",
          "text": [
            "['', ' ', 'e', 'a', 't', 'o', 'i', 'n', 'r', 's', 'l', 'd', 'h', 'c', 'p', 'u', 'm', 'g', ',', 'w', 'f', 'k', 'b', '.', 'y', 'v', '1', 'S', 'C', '-', '\\xa0', 'R', '2', 'P', '(', ')', 'T', 'A', '/', 'B', 'M', 'x', 'G', 'O', '\\n', 'D', 'W', 'j', 'F', '4', '0', 'K', 'H', 'L', '3', 'I', 'z', '*', 'N', '$', '@', '5', 'E', 'V', 'q', 'J', 'Y', '&', '8', 'U', '6', 'é', \"'\", ';', '7', 'Q', 'Z', '’', '|', ':', '9', '!', '\"', '+', '‘', '½', '°', '”', '“', '–', 'ñ', 'X', ']', '%', '¼', 'α', 'Æ', '[', 'è', '`', '˚', 'Μ', 'υ', 'ρ', 'ο', 'μ', 'ά', 'τ', 'ι', 'κ', '~', '¾', '｜', '⅓', 'ç', '\\u200b', '\\u2009', 'á', 'ì', '″', '℃', '=']\n"
          ]
        }
      ]
    },
    {
      "cell_type": "code",
      "source": [
        "# vectorizing the dataset (for neural network)\n",
        "\n",
        "vectorized_dataset = tokenizer.texts_to_sequences(filtered_recipe_dataset)\n",
        "print('Vectorized dataset size', len(vectorized_dataset))\n",
        "\n",
        "\n",
        "# add post padding to crate same sized recipes\n",
        "vectorized_dataset_with_post_padding = tf.keras.preprocessing.sequence.pad_sequences(\n",
        "    vectorized_dataset,\n",
        "    padding='post',\n",
        "    truncating='post',\n",
        "    # We use -1 here and +1 in the next step to make sure\n",
        "    # that all recipes will have at least 1 stops sign at the end,\n",
        "    # since each sequence will be shifted and truncated afterwards\n",
        "    # (to generate X and Y sequences).\n",
        "    maxlen = max_recipe_length-1,\n",
        "    value=tokenizer.texts_to_sequences([stop_sign])[0]\n",
        ")\n",
        "\n",
        "# add post stop sign at the end of each recipe \n",
        "vectorized_dataset_with_stop_char_padding = tf.keras.preprocessing.sequence.pad_sequences(\n",
        "    vectorized_dataset_with_post_padding,\n",
        "    padding='post',\n",
        "    truncating='post',\n",
        "    maxlen=max_recipe_length+1,\n",
        "    value=tokenizer.texts_to_sequences([stop_sign])[0]\n",
        ")"
      ],
      "metadata": {
        "id": "pxYvs2FXj3WD",
        "colab": {
          "base_uri": "https://localhost:8080/",
          "height": 35
        },
        "outputId": "d795b673-b32c-4bbc-ad33-503756735940"
      },
      "execution_count": null,
      "outputs": [
        {
          "output_type": "display_data",
          "data": {
            "text/plain": [
              "<IPython.core.display.HTML object>"
            ],
            "text/html": [
              "\n",
              "  <style>\n",
              "    pre {\n",
              "        white-space: pre-wrap;\n",
              "    }\n",
              "  </style>\n",
              "  "
            ]
          },
          "metadata": {}
        },
        {
          "output_type": "display_data",
          "data": {
            "text/plain": [
              "<IPython.core.display.HTML object>"
            ],
            "text/html": [
              "\n",
              "  <style>\n",
              "    pre {\n",
              "        white-space: pre-wrap;\n",
              "    }\n",
              "  </style>\n",
              "  "
            ]
          },
          "metadata": {}
        },
        {
          "output_type": "stream",
          "name": "stdout",
          "text": [
            "Vectorized dataset size 3254\n"
          ]
        }
      ]
    },
    {
      "cell_type": "code",
      "source": [
        "#convert dataset into tensor\n",
        "\n",
        "dataset = tf.data.Dataset.from_tensor_slices(vectorized_dataset_with_stop_char_padding)\n",
        "print(dataset)\n",
        "\n",
        "# print recipe in dataset\n",
        "# for recipe in dataset.take(1):\n",
        "#     print('Raw recipe:\\n', recipe.numpy(), '\\n\\n\\n')\n",
        "#     print('Stringified recipe:\\n')\n",
        "#     recipe_sequence_to_string(recipe.numpy())"
      ],
      "metadata": {
        "id": "BN0040V7x0nj",
        "colab": {
          "base_uri": "https://localhost:8080/",
          "height": 35
        },
        "outputId": "efd629b6-ac54-4ab4-eb3f-42d6e00c0d24"
      },
      "execution_count": null,
      "outputs": [
        {
          "output_type": "display_data",
          "data": {
            "text/plain": [
              "<IPython.core.display.HTML object>"
            ],
            "text/html": [
              "\n",
              "  <style>\n",
              "    pre {\n",
              "        white-space: pre-wrap;\n",
              "    }\n",
              "  </style>\n",
              "  "
            ]
          },
          "metadata": {}
        },
        {
          "output_type": "display_data",
          "data": {
            "text/plain": [
              "<IPython.core.display.HTML object>"
            ],
            "text/html": [
              "\n",
              "  <style>\n",
              "    pre {\n",
              "        white-space: pre-wrap;\n",
              "    }\n",
              "  </style>\n",
              "  "
            ]
          },
          "metadata": {}
        },
        {
          "output_type": "stream",
          "name": "stdout",
          "text": [
            "<TensorSliceDataset element_spec=TensorSpec(shape=(2001,), dtype=tf.int32, name=None)>\n"
          ]
        }
      ]
    },
    {
      "cell_type": "code",
      "source": [
        "#split input and target text\n",
        "def split_input_target(recipe):\n",
        "    input_text = recipe[:-1]\n",
        "    target_text = recipe[1:]\n",
        "    \n",
        "    return input_text, target_text\n",
        "final_dataset = dataset.map(split_input_target)\n",
        "print(final_dataset)\n",
        "\n",
        "\n",
        "# print the spitted pair of data ----------comment out\n",
        "\n",
        "for input_example, target_example in final_dataset.take(1):\n",
        "    print('Input sequence size:', repr(len(input_example.numpy())))\n",
        "    print('Target sequence size:', repr(len(target_example.numpy())))\n",
        "    print()\n",
        "    \n",
        "    input_stringified = tokenizer.sequences_to_texts([input_example.numpy()[:50]])[0]\n",
        "    target_stringified = tokenizer.sequences_to_texts([target_example.numpy()[:50]])[0]\n",
        "    \n",
        "    print('Input:  ', repr(''.join(input_stringified)))\n",
        "    print('Target: ', repr(''.join(target_stringified)))"
      ],
      "metadata": {
        "id": "OTRWNXB0ydwu",
        "colab": {
          "base_uri": "https://localhost:8080/",
          "height": 121
        },
        "outputId": "90863085-51ce-492c-91d5-18f6b7c80cd3"
      },
      "execution_count": null,
      "outputs": [
        {
          "output_type": "display_data",
          "data": {
            "text/plain": [
              "<IPython.core.display.HTML object>"
            ],
            "text/html": [
              "\n",
              "  <style>\n",
              "    pre {\n",
              "        white-space: pre-wrap;\n",
              "    }\n",
              "  </style>\n",
              "  "
            ]
          },
          "metadata": {}
        },
        {
          "output_type": "display_data",
          "data": {
            "text/plain": [
              "<IPython.core.display.HTML object>"
            ],
            "text/html": [
              "\n",
              "  <style>\n",
              "    pre {\n",
              "        white-space: pre-wrap;\n",
              "    }\n",
              "  </style>\n",
              "  "
            ]
          },
          "metadata": {}
        },
        {
          "output_type": "stream",
          "name": "stdout",
          "text": [
            "<MapDataset element_spec=(TensorSpec(shape=(2000,), dtype=tf.int32, name=None), TensorSpec(shape=(2000,), dtype=tf.int32, name=None))>\n",
            "Input sequence size: 2000\n",
            "Target sequence size: 2000\n",
            "\n",
            "Input:   '$ S p i c y   T o m a t o   R i c e   ( R e c i p e ) \\n @ 2 - 1   /   2   c u p s   r i c e   -   c'\n",
            "Target:  'S p i c y   T o m a t o   R i c e   ( R e c i p e ) \\n @ 2 - 1   /   2   c u p s   r i c e   -   c o'\n"
          ]
        }
      ]
    },
    {
      "cell_type": "markdown",
      "source": [
        "### **Create and Build Model**\n",
        "A character-level LSTM Recurrent neural network is used \n",
        "for creating recipes "
      ],
      "metadata": {
        "id": "ZHJErcfmG6uL"
      }
    },
    {
      "cell_type": "code",
      "source": [
        "# define batch size and buffer size\n",
        "batch_size = 64\n",
        "buffer_size = 1000"
      ],
      "metadata": {
        "id": "zJQtCgFZydtM",
        "colab": {
          "base_uri": "https://localhost:8080/",
          "height": 17
        },
        "outputId": "580e57dd-e653-4bf4-8731-c8afacf84430"
      },
      "execution_count": null,
      "outputs": [
        {
          "output_type": "display_data",
          "data": {
            "text/plain": [
              "<IPython.core.display.HTML object>"
            ],
            "text/html": [
              "\n",
              "  <style>\n",
              "    pre {\n",
              "        white-space: pre-wrap;\n",
              "    }\n",
              "  </style>\n",
              "  "
            ]
          },
          "metadata": {}
        },
        {
          "output_type": "display_data",
          "data": {
            "text/plain": [
              "<IPython.core.display.HTML object>"
            ],
            "text/html": [
              "\n",
              "  <style>\n",
              "    pre {\n",
              "        white-space: pre-wrap;\n",
              "    }\n",
              "  </style>\n",
              "  "
            ]
          },
          "metadata": {}
        }
      ]
    },
    {
      "cell_type": "code",
      "source": [
        "# create train dataset\n",
        "train_dataset = final_dataset.shuffle(buffer_size).batch(batch_size, drop_remainder=True).repeat()\n",
        "print(train_dataset)"
      ],
      "metadata": {
        "id": "BnYeu-Vgydp0",
        "colab": {
          "base_uri": "https://localhost:8080/",
          "height": 35
        },
        "outputId": "ff5199e4-49db-41b5-d301-5358b33fa610"
      },
      "execution_count": null,
      "outputs": [
        {
          "output_type": "display_data",
          "data": {
            "text/plain": [
              "<IPython.core.display.HTML object>"
            ],
            "text/html": [
              "\n",
              "  <style>\n",
              "    pre {\n",
              "        white-space: pre-wrap;\n",
              "    }\n",
              "  </style>\n",
              "  "
            ]
          },
          "metadata": {}
        },
        {
          "output_type": "display_data",
          "data": {
            "text/plain": [
              "<IPython.core.display.HTML object>"
            ],
            "text/html": [
              "\n",
              "  <style>\n",
              "    pre {\n",
              "        white-space: pre-wrap;\n",
              "    }\n",
              "  </style>\n",
              "  "
            ]
          },
          "metadata": {}
        },
        {
          "output_type": "stream",
          "name": "stdout",
          "text": [
            "<RepeatDataset element_spec=(TensorSpec(shape=(64, 2000), dtype=tf.int32, name=None), TensorSpec(shape=(64, 2000), dtype=tf.int32, name=None))>\n"
          ]
        }
      ]
    },
    {
      "cell_type": "code",
      "source": [
        "# create model\n",
        "\n",
        "# using keras sequential model\n",
        "\n",
        "def build_model(vocabulary_size, embedding_dimension, rnn_units,batch_size):\n",
        "  model = tf.keras.models.Sequential()\n",
        "\n",
        "  model.add(tf.keras.layers.Embedding(\n",
        "      input_dim=vocabulary_size,\n",
        "      output_dim = embedding_dimension,\n",
        "      batch_input_shape = [batch_size,None]\n",
        "  ))\n",
        "\n",
        "  model.add(tf.keras.layers.LSTM(\n",
        "      units = rnn_units,\n",
        "      return_sequences = True,\n",
        "      stateful=True,\n",
        "      recurrent_initializer = tf.keras.initializers.GlorotNormal()\n",
        "  ))\n",
        "\n",
        "  model.add(tf.keras.layers.Dense(vocabulary_size))\n",
        "  return model\n",
        "\n",
        "model = build_model(\n",
        "    vocabulary_size = vocabulary_size,\n",
        "    embedding_dimension = 256,\n",
        "    rnn_units = 1024,\n",
        "    batch_size = batch_size\n",
        ")\n",
        "\n",
        "model.summary()"
      ],
      "metadata": {
        "id": "HE3gjo3QydfG",
        "colab": {
          "base_uri": "https://localhost:8080/",
          "height": 277
        },
        "outputId": "39354546-134c-4cb4-da76-6773dcd8111d"
      },
      "execution_count": null,
      "outputs": [
        {
          "output_type": "display_data",
          "data": {
            "text/plain": [
              "<IPython.core.display.HTML object>"
            ],
            "text/html": [
              "\n",
              "  <style>\n",
              "    pre {\n",
              "        white-space: pre-wrap;\n",
              "    }\n",
              "  </style>\n",
              "  "
            ]
          },
          "metadata": {}
        },
        {
          "output_type": "display_data",
          "data": {
            "text/plain": [
              "<IPython.core.display.HTML object>"
            ],
            "text/html": [
              "\n",
              "  <style>\n",
              "    pre {\n",
              "        white-space: pre-wrap;\n",
              "    }\n",
              "  </style>\n",
              "  "
            ]
          },
          "metadata": {}
        },
        {
          "output_type": "stream",
          "name": "stdout",
          "text": [
            "Model: \"sequential_3\"\n",
            "_________________________________________________________________\n",
            " Layer (type)                Output Shape              Param #   \n",
            "=================================================================\n",
            " embedding_3 (Embedding)     (64, None, 256)           31232     \n",
            "                                                                 \n",
            " lstm_3 (LSTM)               (64, None, 1024)          5246976   \n",
            "                                                                 \n",
            " dense_3 (Dense)             (64, None, 122)           125050    \n",
            "                                                                 \n",
            "=================================================================\n",
            "Total params: 5,403,258\n",
            "Trainable params: 5,403,258\n",
            "Non-trainable params: 0\n",
            "_________________________________________________________________\n"
          ]
        }
      ]
    },
    {
      "cell_type": "code",
      "source": [
        "# visualizing the model\n",
        "tf.keras.utils.plot_model(\n",
        "    model,\n",
        "    show_shapes=True,\n",
        "    show_layer_names = True,\n",
        "    to_file = 'model.png'\n",
        ")"
      ],
      "metadata": {
        "id": "yH0TmH6p3tJk",
        "colab": {
          "base_uri": "https://localhost:8080/",
          "height": 422
        },
        "outputId": "0770408e-e046-4111-ccc4-08160fc3b218"
      },
      "execution_count": null,
      "outputs": [
        {
          "output_type": "display_data",
          "data": {
            "text/plain": [
              "<IPython.core.display.HTML object>"
            ],
            "text/html": [
              "\n",
              "  <style>\n",
              "    pre {\n",
              "        white-space: pre-wrap;\n",
              "    }\n",
              "  </style>\n",
              "  "
            ]
          },
          "metadata": {}
        },
        {
          "output_type": "display_data",
          "data": {
            "text/plain": [
              "<IPython.core.display.HTML object>"
            ],
            "text/html": [
              "\n",
              "  <style>\n",
              "    pre {\n",
              "        white-space: pre-wrap;\n",
              "    }\n",
              "  </style>\n",
              "  "
            ]
          },
          "metadata": {}
        },
        {
          "output_type": "execute_result",
          "data": {
            "text/plain": [
              "<IPython.core.display.Image object>"
            ],
            "image/png": "[encoded data removed]"
          },
          "metadata": {},
          "execution_count": 61
        }
      ]
    },
    {
      "cell_type": "code",
      "source": [
        "# training model // no need to split in train and test\n",
        " # add loss function and optimizer\n",
        "\n",
        " # loss function cross entropy\n",
        "\n",
        "def loss(labels,logits):\n",
        "  entropy = tf.keras.losses.sparse_categorical_crossentropy(\n",
        "      y_true = labels,\n",
        "      y_pred = logits,\n",
        "      from_logits = True\n",
        "  )\n",
        "\n",
        "  return entropy\n",
        "\n",
        "\n",
        "  # compile the model\n",
        "optimizer = tf.keras.optimizers.Adam(learning_rate = 0.001)\n",
        "\n",
        "model.compile(\n",
        "    optimizer = optimizer,\n",
        "    loss = loss,\n",
        "    metrics=['accuracy']\n",
        ")"
      ],
      "metadata": {
        "id": "gJvqtCgS3tAv",
        "colab": {
          "base_uri": "https://localhost:8080/",
          "height": 17
        },
        "outputId": "f3f2e4ee-223d-4008-913e-50512dab923a"
      },
      "execution_count": null,
      "outputs": [
        {
          "output_type": "display_data",
          "data": {
            "text/plain": [
              "<IPython.core.display.HTML object>"
            ],
            "text/html": [
              "\n",
              "  <style>\n",
              "    pre {\n",
              "        white-space: pre-wrap;\n",
              "    }\n",
              "  </style>\n",
              "  "
            ]
          },
          "metadata": {}
        },
        {
          "output_type": "display_data",
          "data": {
            "text/plain": [
              "<IPython.core.display.HTML object>"
            ],
            "text/html": [
              "\n",
              "  <style>\n",
              "    pre {\n",
              "        white-space: pre-wrap;\n",
              "    }\n",
              "  </style>\n",
              "  "
            ]
          },
          "metadata": {}
        }
      ]
    },
    {
      "cell_type": "code",
      "source": [
        "# add early stopping in case the model is not improving\n",
        "early_stopping = tf.keras.callbacks.EarlyStopping(\n",
        "    patience = 5,\n",
        "    monitor = 'loss',\n",
        "    restore_best_weights = 1,\n",
        "    verbose = 1\n",
        ")"
      ],
      "metadata": {
        "id": "wJIPhaSC3s0x",
        "colab": {
          "base_uri": "https://localhost:8080/",
          "height": 17
        },
        "outputId": "1e4697fb-f38f-423e-bc42-a9c724918ecd"
      },
      "execution_count": null,
      "outputs": [
        {
          "output_type": "display_data",
          "data": {
            "text/plain": [
              "<IPython.core.display.HTML object>"
            ],
            "text/html": [
              "\n",
              "  <style>\n",
              "    pre {\n",
              "        white-space: pre-wrap;\n",
              "    }\n",
              "  </style>\n",
              "  "
            ]
          },
          "metadata": {}
        },
        {
          "output_type": "display_data",
          "data": {
            "text/plain": [
              "<IPython.core.display.HTML object>"
            ],
            "text/html": [
              "\n",
              "  <style>\n",
              "    pre {\n",
              "        white-space: pre-wrap;\n",
              "    }\n",
              "  </style>\n",
              "  "
            ]
          },
          "metadata": {}
        }
      ]
    },
    {
      "cell_type": "code",
      "source": [
        "# add model checkpoints\n",
        "\n",
        "# create_checkpoint directory\n",
        "# google drive path is needed here\n",
        "\n",
        "# checkpoints = '/content/drive/My Drive/cc_project_model/checkpoints'\n",
        "# os.makedirs(checkpoints, exist_ok=True)\n",
        "\n",
        "# checkpoint_path = os.path.join(checkpoints,'chkpt_{epoch}')\n",
        "# checkpoint_callback = tf.keras.callbacks.ModelCheckpoint(filepath=checkpoint_path,save_weights_only=True)"
      ],
      "metadata": {
        "id": "j6j1W0Fh6_j4",
        "colab": {
          "base_uri": "https://localhost:8080/",
          "height": 17
        },
        "outputId": "b455a78b-b906-4c32-ceab-fce781c82df4"
      },
      "execution_count": null,
      "outputs": [
        {
          "output_type": "display_data",
          "data": {
            "text/plain": [
              "<IPython.core.display.HTML object>"
            ],
            "text/html": [
              "\n",
              "  <style>\n",
              "    pre {\n",
              "        white-space: pre-wrap;\n",
              "    }\n",
              "  </style>\n",
              "  "
            ]
          },
          "metadata": {}
        },
        {
          "output_type": "display_data",
          "data": {
            "text/plain": [
              "<IPython.core.display.HTML object>"
            ],
            "text/html": [
              "\n",
              "  <style>\n",
              "    pre {\n",
              "        white-space: pre-wrap;\n",
              "    }\n",
              "  </style>\n",
              "  "
            ]
          },
          "metadata": {}
        }
      ]
    },
    {
      "cell_type": "markdown",
      "source": [
        "### **Train Model**"
      ],
      "metadata": {
        "id": "CpE_s1X6I-QW"
      }
    },
    {
      "cell_type": "code",
      "source": [
        "# train the model\n",
        "\n",
        "# define parameters\n",
        "\n",
        "# epochs = 11\n",
        "# steps_per_epoch = 1500\n",
        "# print('epochs', epochs)\n",
        "# print('steps per epoch', steps_per_epoch)\n",
        "\n",
        "\n",
        "# #training\n",
        "\n",
        "# history = model.fit(\n",
        "#     x= train_dataset,\n",
        "#     epochs= epochs,\n",
        "#     steps_per_epoch = steps_per_epoch,\n",
        "#     callbacks = [\n",
        "#                  checkpoint_callback,\n",
        "#                  early_stopping\n",
        "                 \n",
        "#     ]\n",
        "# )\n",
        "\n",
        "\n",
        "# path = '/content/drive/My Drive/cc_project_model/creative_recipes_in_culinary_art.h5'\n",
        "\n",
        "# # save model in google drive\n",
        "# model.save(path,save_format='h5')\n"
      ],
      "metadata": {
        "id": "Zc-s9FrN7Gzl",
        "colab": {
          "base_uri": "https://localhost:8080/",
          "height": 17
        },
        "outputId": "4a280115-9a08-46fb-c4bc-a7e83557ccd0"
      },
      "execution_count": null,
      "outputs": [
        {
          "output_type": "display_data",
          "data": {
            "text/plain": [
              "<IPython.core.display.HTML object>"
            ],
            "text/html": [
              "\n",
              "  <style>\n",
              "    pre {\n",
              "        white-space: pre-wrap;\n",
              "    }\n",
              "  </style>\n",
              "  "
            ]
          },
          "metadata": {}
        },
        {
          "output_type": "display_data",
          "data": {
            "text/plain": [
              "<IPython.core.display.HTML object>"
            ],
            "text/html": [
              "\n",
              "  <style>\n",
              "    pre {\n",
              "        white-space: pre-wrap;\n",
              "    }\n",
              "  </style>\n",
              "  "
            ]
          },
          "metadata": {}
        }
      ]
    },
    {
      "cell_type": "code",
      "source": [
        "# plot epoch vs loss graph\n",
        "\n",
        "# def render_training_history(training_history):\n",
        "#   loss = training_history.history['loss']\n",
        "#   plt.title('Loss')\n",
        "#   plt.xlabel('Epoch')\n",
        "#   plt.ylabel('Loss')\n",
        "#   plt.plot(loss, label='Training set')\n",
        "#   plt.legend()\n",
        "#   plt.grid(linestyle='--', linewidth=1, alpha=0.5)\n",
        "#   plt.show()\n",
        "  \n",
        "# render_training_history(history)\n"
      ],
      "metadata": {
        "id": "Uy2rgD2t757e",
        "colab": {
          "base_uri": "https://localhost:8080/",
          "height": 17
        },
        "outputId": "2eb7df8e-0895-4933-cce3-da9ec281aba4"
      },
      "execution_count": null,
      "outputs": [
        {
          "output_type": "display_data",
          "data": {
            "text/plain": [
              "<IPython.core.display.HTML object>"
            ],
            "text/html": [
              "\n",
              "  <style>\n",
              "    pre {\n",
              "        white-space: pre-wrap;\n",
              "    }\n",
              "  </style>\n",
              "  "
            ]
          },
          "metadata": {}
        },
        {
          "output_type": "display_data",
          "data": {
            "text/plain": [
              "<IPython.core.display.HTML object>"
            ],
            "text/html": [
              "\n",
              "  <style>\n",
              "    pre {\n",
              "        white-space: pre-wrap;\n",
              "    }\n",
              "  </style>\n",
              "  "
            ]
          },
          "metadata": {}
        }
      ]
    },
    {
      "cell_type": "markdown",
      "source": [
        "### **Load the Latest Checkpoint and Rebuild the Model**"
      ],
      "metadata": {
        "id": "41hTyI3kJFwL"
      }
    },
    {
      "cell_type": "code",
      "source": [],
      "metadata": {
        "id": "xhUQUimoVBYR",
        "colab": {
          "base_uri": "https://localhost:8080/",
          "height": 17
        },
        "outputId": "a01a1254-0c2c-45cf-8e31-8c11680216d9"
      },
      "execution_count": null,
      "outputs": [
        {
          "output_type": "display_data",
          "data": {
            "text/plain": [
              "<IPython.core.display.HTML object>"
            ],
            "text/html": [
              "\n",
              "  <style>\n",
              "    pre {\n",
              "        white-space: pre-wrap;\n",
              "    }\n",
              "  </style>\n",
              "  "
            ]
          },
          "metadata": {}
        },
        {
          "output_type": "display_data",
          "data": {
            "text/plain": [
              "<IPython.core.display.HTML object>"
            ],
            "text/html": [
              "\n",
              "  <style>\n",
              "    pre {\n",
              "        white-space: pre-wrap;\n",
              "    }\n",
              "  </style>\n",
              "  "
            ]
          },
          "metadata": {}
        }
      ]
    },
    {
      "cell_type": "code",
      "source": [
        "# #@title Download Saved Model\n",
        "# !pip install --upgrade --no-cache-dir  gdown==4.3.0\n",
        "# # !pip install -U --no-cache-dir gdown --pre\n",
        "# !gdown --id '1-M-Skk4PJW1YA2HTDktS6ZF6W4XPSHqP'\n",
        "# import gdown, os\n",
        "\n",
        "# url = \"https://drive.google.com/drive/folders/1-BMUj5fWlFTMCB4Tnxkq1yUwO9b76S-O?usp=sharing\"\n",
        "\n",
        "# download_successful = None # A workaround to make sure that gdown downloads the whole folder successfully, see https://github.com/wkentaro/gdown/issues/43\n",
        "# while download_successful == None:\n",
        "#   download_successful = gdown.download_folder(url, quiet=True, use_cookies=False)\n",
        "#   os.system('rm ~/.cache/gdown/cookies.json')\n",
        "\n"
      ],
      "metadata": {
        "id": "cBV3HZKpmryA",
        "colab": {
          "base_uri": "https://localhost:8080/",
          "height": 17
        },
        "outputId": "895836a0-ee9b-4ca5-e7f5-a01dbe43b03a"
      },
      "execution_count": null,
      "outputs": [
        {
          "output_type": "display_data",
          "data": {
            "text/plain": [
              "<IPython.core.display.HTML object>"
            ],
            "text/html": [
              "\n",
              "  <style>\n",
              "    pre {\n",
              "        white-space: pre-wrap;\n",
              "    }\n",
              "  </style>\n",
              "  "
            ]
          },
          "metadata": {}
        },
        {
          "output_type": "display_data",
          "data": {
            "text/plain": [
              "<IPython.core.display.HTML object>"
            ],
            "text/html": [
              "\n",
              "  <style>\n",
              "    pre {\n",
              "        white-space: pre-wrap;\n",
              "    }\n",
              "  </style>\n",
              "  "
            ]
          },
          "metadata": {}
        }
      ]
    },
    {
      "cell_type": "code",
      "source": [
        "# rebuild the model with batch size 1\n",
        "checkpoints = '/content/drive/My Drive/cc_project_model/checkpoints'\n",
        "# print(checkpoints)\n",
        "small_batch_size = 1\n",
        "simple_model = build_model(vocabulary_size =vocabulary_size ,embedding_dimension = 256, rnn_units =1024, batch_size= small_batch_size)\n",
        "simple_model.load_weights(tf.train.latest_checkpoint(checkpoints))\n",
        "simple_model.build(tf.TensorShape([small_batch_size]))\n",
        "simple_model.summary()"
      ],
      "metadata": {
        "id": "9V_hlIaR8b_a",
        "colab": {
          "base_uri": "https://localhost:8080/",
          "height": 277
        },
        "outputId": "f5ee5c37-6d90-45dd-addd-f37334884040"
      },
      "execution_count": null,
      "outputs": [
        {
          "output_type": "display_data",
          "data": {
            "text/plain": [
              "<IPython.core.display.HTML object>"
            ],
            "text/html": [
              "\n",
              "  <style>\n",
              "    pre {\n",
              "        white-space: pre-wrap;\n",
              "    }\n",
              "  </style>\n",
              "  "
            ]
          },
          "metadata": {}
        },
        {
          "output_type": "display_data",
          "data": {
            "text/plain": [
              "<IPython.core.display.HTML object>"
            ],
            "text/html": [
              "\n",
              "  <style>\n",
              "    pre {\n",
              "        white-space: pre-wrap;\n",
              "    }\n",
              "  </style>\n",
              "  "
            ]
          },
          "metadata": {}
        },
        {
          "output_type": "stream",
          "name": "stdout",
          "text": [
            "Model: \"sequential_4\"\n",
            "_________________________________________________________________\n",
            " Layer (type)                Output Shape              Param #   \n",
            "=================================================================\n",
            " embedding_4 (Embedding)     (1, None, 256)            31232     \n",
            "                                                                 \n",
            " lstm_4 (LSTM)               (1, None, 1024)           5246976   \n",
            "                                                                 \n",
            " dense_4 (Dense)             (1, None, 122)            125050    \n",
            "                                                                 \n",
            "=================================================================\n",
            "Total params: 5,403,258\n",
            "Trainable params: 5,403,258\n",
            "Non-trainable params: 0\n",
            "_________________________________________________________________\n"
          ]
        }
      ]
    },
    {
      "cell_type": "markdown",
      "source": [
        "### **Generate Recipes**"
      ],
      "metadata": {
        "id": "iZkJb50aLDM2"
      }
    },
    {
      "cell_type": "code",
      "source": [
        "# Generate recipes with pretrained model\n",
        "\n",
        "def generate_text(model, start_string, num_generate = 1000, randomness=1.0):\n",
        "    \n",
        "  \n",
        "    padded_start_string = stop_word_recipe_name + start_string\n",
        "    # Convert start word in numbers\n",
        "    input_indices = np.array(tokenizer.texts_to_sequences([padded_start_string]))\n",
        "    # recipe_generated\n",
        "    recipe_generated = []\n",
        "    # Here batch size == 1.\n",
        "    model.reset_states()\n",
        "    for char_index in range(num_generate):\n",
        "        predictions = model(input_indices)\n",
        "        # remove the batch dimension\n",
        "        predictions = tf.squeeze(predictions, 0)\n",
        "        \n",
        "        # Using a categorical distribution\n",
        "        predictions = predictions / randomness\n",
        "        \n",
        "        predicted_id = tf.random.categorical(\n",
        "            predictions,\n",
        "            num_samples=1\n",
        "        )[-1, 0].numpy()\n",
        "\n",
        "        # pass predicted character as a next input with previous hidden state\n",
        "        input_indices = tf.expand_dims([predicted_id], 0)\n",
        "        \n",
        "        next_character = tokenizer.sequences_to_texts(input_indices.numpy())[0]\n",
        "        recipe_generated.append(next_character)\n",
        "    return (padded_start_string + ''.join(recipe_generated))"
      ],
      "metadata": {
        "id": "M8gP4zpT8b30",
        "colab": {
          "base_uri": "https://localhost:8080/",
          "height": 104
        },
        "outputId": "68b6152f-d102-41ee-ac6d-44f6e6af38c0"
      },
      "execution_count": null,
      "outputs": [
        {
          "output_type": "display_data",
          "data": {
            "text/plain": [
              "<IPython.core.display.HTML object>"
            ],
            "text/html": [
              "\n",
              "  <style>\n",
              "    pre {\n",
              "        white-space: pre-wrap;\n",
              "    }\n",
              "  </style>\n",
              "  "
            ]
          },
          "metadata": {}
        },
        {
          "output_type": "display_data",
          "data": {
            "text/plain": [
              "<IPython.core.display.HTML object>"
            ],
            "text/html": [
              "\n",
              "  <style>\n",
              "    pre {\n",
              "        white-space: pre-wrap;\n",
              "    }\n",
              "  </style>\n",
              "  "
            ]
          },
          "metadata": {}
        },
        {
          "output_type": "stream",
          "name": "stdout",
          "text": [
            "WARNING:tensorflow:Detecting that an object or model or tf.train.Checkpoint is being deleted with unrestored values. See the following logs for the specific values in question. To silence these warnings, use `status.expect_partial()`. See https://www.tensorflow.org/api_docs/python/tf/train/Checkpoint#restorefor details about the status object returned by the restore function.\n",
            "WARNING:tensorflow:Value in checkpoint could not be found in the restored object: (root).optimizer.iter\n",
            "WARNING:tensorflow:Value in checkpoint could not be found in the restored object: (root).optimizer.beta_1\n"
          ]
        }
      ]
    },
    {
      "cell_type": "code",
      "source": [
        "def generate_recipe(model):\n",
        "    # recipe_length = 1000\n",
        "    recipe_length = 1000 #@param {type:\"slider\", min:500, max:1500, step:100}\n",
        "    randomness = 0.6 #@param {type:\"slider\", min:0.1, max:1.0, step:0.1}\n",
        "    \n",
        "    start_words_for_recipe_name = 'Paneer' #@param ['Cabbage', 'Paneer', 'Lentil', 'Masala', 'Tomato', 'Rajasthani','Spicy'] {allow-input: true}\n",
        "\n",
        "    generated_text = generate_text(\n",
        "        model,\n",
        "        start_string=start_words_for_recipe_name,\n",
        "        num_generate = recipe_length,\n",
        "        randomness=randomness\n",
        "    )\n",
        "    print(f'Starting word: \"{start_words_for_recipe_name}\"\\n randomness: {randomness}')\n",
        "    print('-----------------------------------')\n",
        "    print(generated_text)\n",
        "    print('\\n\\n')"
      ],
      "metadata": {
        "id": "__oNHgO48t1q",
        "colab": {
          "base_uri": "https://localhost:8080/",
          "height": 381
        },
        "outputId": "6c10b82d-809e-4251-8189-a5e9d6482a4b"
      },
      "execution_count": null,
      "outputs": [
        {
          "output_type": "stream",
          "name": "stdout",
          "text": [
            "WARNING:tensorflow:Value in checkpoint could not be found in the restored object: (root).optimizer.beta_2\n",
            "WARNING:tensorflow:Value in checkpoint could not be found in the restored object: (root).optimizer.decay\n"
          ]
        },
        {
          "output_type": "display_data",
          "data": {
            "text/plain": [
              "<IPython.core.display.HTML object>"
            ],
            "text/html": [
              "\n",
              "  <style>\n",
              "    pre {\n",
              "        white-space: pre-wrap;\n",
              "    }\n",
              "  </style>\n",
              "  "
            ]
          },
          "metadata": {}
        },
        {
          "output_type": "stream",
          "name": "stdout",
          "text": [
            "WARNING:tensorflow:Value in checkpoint could not be found in the restored object: (root).optimizer.learning_rate\n",
            "WARNING:tensorflow:Value in checkpoint could not be found in the restored object: (root).optimizer's state 'm' for (root).layer_with_weights-0.embeddings\n"
          ]
        },
        {
          "output_type": "display_data",
          "data": {
            "text/plain": [
              "<IPython.core.display.HTML object>"
            ],
            "text/html": [
              "\n",
              "  <style>\n",
              "    pre {\n",
              "        white-space: pre-wrap;\n",
              "    }\n",
              "  </style>\n",
              "  "
            ]
          },
          "metadata": {}
        },
        {
          "output_type": "stream",
          "name": "stdout",
          "text": [
            "WARNING:tensorflow:Value in checkpoint could not be found in the restored object: (root).optimizer's state 'm' for (root).layer_with_weights-2.kernel\n",
            "WARNING:tensorflow:Value in checkpoint could not be found in the restored object: (root).optimizer's state 'm' for (root).layer_with_weights-2.bias\n",
            "WARNING:tensorflow:Value in checkpoint could not be found in the restored object: (root).optimizer's state 'm' for (root).layer_with_weights-1.cell.kernel\n",
            "WARNING:tensorflow:Value in checkpoint could not be found in the restored object: (root).optimizer's state 'm' for (root).layer_with_weights-1.cell.recurrent_kernel\n",
            "WARNING:tensorflow:Value in checkpoint could not be found in the restored object: (root).optimizer's state 'm' for (root).layer_with_weights-1.cell.bias\n",
            "WARNING:tensorflow:Value in checkpoint could not be found in the restored object: (root).optimizer's state 'v' for (root).layer_with_weights-0.embeddings\n",
            "WARNING:tensorflow:Value in checkpoint could not be found in the restored object: (root).optimizer's state 'v' for (root).layer_with_weights-2.kernel\n",
            "WARNING:tensorflow:Value in checkpoint could not be found in the restored object: (root).optimizer's state 'v' for (root).layer_with_weights-2.bias\n",
            "WARNING:tensorflow:Value in checkpoint could not be found in the restored object: (root).optimizer's state 'v' for (root).layer_with_weights-1.cell.kernel\n",
            "WARNING:tensorflow:Value in checkpoint could not be found in the restored object: (root).optimizer's state 'v' for (root).layer_with_weights-1.cell.recurrent_kernel\n"
          ]
        }
      ]
    },
    {
      "cell_type": "code",
      "source": [
        "generate_recipe(simple_model)"
      ],
      "metadata": {
        "id": "a2nnfgk68ttj",
        "colab": {
          "base_uri": "https://localhost:8080/",
          "height": 260
        },
        "outputId": "09cb886c-8cf9-445e-e61d-866536ae1903"
      },
      "execution_count": null,
      "outputs": [
        {
          "output_type": "display_data",
          "data": {
            "text/plain": [
              "<IPython.core.display.HTML object>"
            ],
            "text/html": [
              "\n",
              "  <style>\n",
              "    pre {\n",
              "        white-space: pre-wrap;\n",
              "    }\n",
              "  </style>\n",
              "  "
            ]
          },
          "metadata": {}
        },
        {
          "output_type": "display_data",
          "data": {
            "text/plain": [
              "<IPython.core.display.HTML object>"
            ],
            "text/html": [
              "\n",
              "  <style>\n",
              "    pre {\n",
              "        white-space: pre-wrap;\n",
              "    }\n",
              "  </style>\n",
              "  "
            ]
          },
          "metadata": {}
        },
        {
          "output_type": "stream",
          "name": "stdout",
          "text": [
            "Starting word: \"Paneer\"\n",
            " randomness: 0.6\n",
            "-----------------------------------\n",
            "$Paneer Balls Recipe in Simmering\n",
            "@1 cup All Purpose Flour (MaidaT,1/4 cup Caster Sugar,1 Whole Eggs,1 teaspoon Vanilla Extract,100 grams Sugar,1 teaspoon Vanilla Extract,1 pinch Salt\n",
            "*)o make Breakfast Basil Recipe, take one tables in 1 cup of water and mash the potatoes. Keep aside and refrigerate it for 20 minutes.Heat oil in a skillet for the tempering. Add florets and panch dosa on the tawa. Leave the curry to come to a rolling boil, turn down the flame and add salt as well as the batter pointed you does not have thicker still will don't cover. Grind together to make a paste.Add coconut and mix well. Check for salt. Add more yogurt and stir continuously, while it is skin, turn off the flame and garnish with fresh coriander.Serve Bakery Style Baked Nippattu or rose start masalayo masala cheese on the sides.Serve Pan Roast Bok Chunks as a tea time snack or pack it in your kids snack boxes.κκκκκκκκκκκκκκκκκκκκκκκκκκκκκκκκκκκκκκκκκκκκκκκκκκκκκκκκκκκκκκκκκκκκκκκκκκκκκκκκκκκκκκκκκκκκκκκκκκκκκκ\n",
            "\n",
            "\n",
            "\n"
          ]
        }
      ]
    },
    {
      "cell_type": "code",
      "source": [],
      "metadata": {
        "id": "cZr43V5sRbpN"
      },
      "execution_count": null,
      "outputs": []
    }
  ]
}